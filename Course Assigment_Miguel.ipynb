{
  "metadata": {
    "language_info": {
      "codemirror_mode": {
        "name": "python",
        "version": 3
      },
      "file_extension": ".py",
      "mimetype": "text/x-python",
      "name": "python",
      "nbconvert_exporter": "python",
      "pygments_lexer": "ipython3",
      "version": "3.8"
    },
    "kernelspec": {
      "name": "python",
      "display_name": "Pyolite",
      "language": "python"
    }
  },
  "nbformat_minor": 4,
  "nbformat": 4,
  "cells": [
    {
      "cell_type": "markdown",
      "source": "<center>\n    <img src=\"https://s3-api.us-geo.objectstorage.softlayer.net/cf-courses-data/CognitiveClass/Logos/organization_logo/organization_logo.png\" width=\"300\" alt=\"cognitiveclass.ai logo\"  />\n</center>",
      "metadata": {}
    },
    {
      "cell_type": "markdown",
      "source": "# My Jupyter Notebook on IBM Watson Studio",
      "metadata": {}
    },
    {
      "cell_type": "markdown",
      "source": "**Miguel Nazareth Escutia González**  \nBusiness Data Analyst",
      "metadata": {}
    },
    {
      "cell_type": "markdown",
      "source": "*I'm currently working as a Business Data Analyst and I thin that Data Science can help me get to the next step on my career, specially the algorithms implemetation*   \n*I also think all tools and knowldedge related to this field will help me find the real value on all data currently available*\n",
      "metadata": {}
    },
    {
      "cell_type": "markdown",
      "source": "### My code is intended to welcome the peer reviewer who sees this notebook",
      "metadata": {}
    },
    {
      "cell_type": "code",
      "source": "print (\"Hello, I hope you're having a fantastic day!\")",
      "metadata": {
        "trusted": true
      },
      "execution_count": 5,
      "outputs": [
        {
          "name": "stdout",
          "text": "Hello, I hope you're having a fantastic day!\n",
          "output_type": "stream"
        }
      ]
    },
    {
      "cell_type": "markdown",
      "source": "1. Miguel placed the first line of the list  \n* and he has also placed a sub item  \n---\n[If you have any questions about anything you can always consult ;)](https://www.google.com)   \n\n__Name__ | __Course__\n--- | --- \n_Miguel Escutia_ | _Data Science_ ",
      "metadata": {}
    }
  ]
}